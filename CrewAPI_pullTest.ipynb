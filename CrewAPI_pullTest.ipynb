{
 "cells": [
  {
   "cell_type": "code",
   "execution_count": 6,
   "metadata": {
    "collapsed": true
   },
   "outputs": [],
   "source": [
    "#!/usr/bin/env python\n",
    "# -*- coding: UTF-8 -*-\n",
    "\n",
    "# ----- Packages ------------------------------------------------------\n",
    "import csv\n",
    "import datetime\n",
    "import os\n",
    "import urllib.parse\n",
    "import urllib.request\n",
    "import xml.etree.ElementTree\n",
    "\n",
    "\n",
    "PSS_CHARS_FILE = 'pss-chars.txt'\n",
    "PSS_CHARS_RAW_FILE = 'pss-chars-raw.txt'\n",
    "PSS_LINKS_FILE = 'links.csv'\n",
    "MAXIMUM_CHARACTERS = 1900"
   ]
  },
  {
   "cell_type": "code",
   "execution_count": 12,
   "metadata": {
    "collapsed": true
   },
   "outputs": [],
   "source": [
    "def save_raw_text(raw_text, filename):\n",
    "    try:\n",
    "        with open(filename, 'w') as f:\n",
    "            f.write(raw_text)\n",
    "    except:\n",
    "        with open(filename, 'w', encoding='utf-8') as f:\n",
    "            f.write(raw_text)\n",
    "\n",
    "def get_data_from_url(url):\n",
    "    data = urllib.request.urlopen(url).read()\n",
    "    return data.decode('utf-8')\n",
    "\n",
    "def load_data_from_url(filename, url, refresh='auto'):\n",
    "    if os.path.isfile(filename) and refresh != 'true':\n",
    "        if refresh == 'auto':\n",
    "            if is_old_file(filename, max_seconds=3600):\n",
    "                raw_text = get_data_from_url(url)\n",
    "                save_raw_text(raw_text, filename)\n",
    "                return raw_text\n",
    "        with open(filename, 'r') as f:\n",
    "            raw_text = f.read()\n",
    "    else:\n",
    "        raw_text = get_data_from_url(url)\n",
    "        save_raw_text(raw_text, filename)\n",
    "    return raw_text\n",
    "\n",
    "def xmltree_to_dict2(raw_text, key=None):\n",
    "    root = xml.etree.ElementTree.fromstring(raw_text)\n",
    "    for c in root:\n",
    "        d = {}\n",
    "        for cc in c:\n",
    "            if key is None:\n",
    "                d = cc.attrib\n",
    "            else:\n",
    "                d[cc.attrib[key]] = cc.attrib\n",
    "    return d\n",
    "\n",
    "def xmltree_to_dict3(raw_text, key):\n",
    "    root = xml.etree.ElementTree.fromstring(raw_text)\n",
    "    for c in root:\n",
    "        for cc in c:\n",
    "            d = {}\n",
    "            for ccc in cc:\n",
    "                d[ccc.attrib[key]] = ccc.attrib\n",
    "    return d\n",
    "\n",
    "\n",
    "def create_reverse_lookup(d, new_key, new_value):\n",
    "    \"\"\"Creates a dictionary of the form:\n",
    "    {'new_key': 'new_value'}\"\"\"\n",
    "    rlookup = {}\n",
    "    for key in d.keys():\n",
    "        item = d[key]\n",
    "        rlookup[item[new_key]] = item[new_value]\n",
    "    return rlookup\n",
    "\n",
    "\n",
    "# ----- Get Production Server -----\n",
    "def get_production_server():\n",
    "    url = 'https://api.pixelstarships.com/SettingService/GetLatestVersion3?languageKey=en&deviceType=DeviceTypeAndroid'\n",
    "    raw_text = get_data_from_url(url)\n",
    "    d = xmltree_to_dict2(raw_text, key=None)\n",
    "    return d['ProductionServer']"
   ]
  },
  {
   "cell_type": "code",
   "execution_count": 13,
   "metadata": {
    "collapsed": true
   },
   "outputs": [],
   "source": [
    "base_url = 'http://{}/'.format(get_production_server())\n",
    "\n",
    "def request_new_char_sheet():\n",
    "    # Download Character Sheet from PSS Servers\n",
    "    url = base_url + 'CharacterService/ListAllCharacterDesigns?languageKey=en'\n",
    "    data = urllib.request.urlopen(url).read()\n",
    "    return data.decode()\n",
    "\n",
    "\n",
    "def get_char_sheet(refresh='auto'):\n",
    "    url = base_url + 'CharacterService/ListAllCharacterDesigns?languageKey=en'\n",
    "    raw_text = load_data_from_url(PSS_CHARS_RAW_FILE, url, refresh=refresh)\n",
    "    ctbl = xmltree_to_dict3(raw_text, 'CharacterDesignId')\n",
    "    tbl_i2n = create_reverse_lookup(ctbl, 'CharacterDesignId', 'CharacterDesignName')\n",
    "    tbl_n2i = create_reverse_lookup(ctbl, 'CharacterDesignName', 'CharacterDesignId')\n",
    "    rarity = create_reverse_lookup(ctbl, 'CharacterDesignName', 'Rarity')\n",
    "    return ctbl, tbl_i2n, tbl_n2i, rarity"
   ]
  },
  {
   "cell_type": "code",
   "execution_count": 15,
   "metadata": {},
   "outputs": [],
   "source": [
    "ctbl, tbl_i2n, tbl_n2i, rarity = get_char_sheet(refresh='true')\n",
    "txt = ''\n",
    "for k,v in tbl_i2n.items():\n",
    "    txt += f'{k},{v}\\n'\n",
    "with open('characters.csv', 'w') as f:\n",
    "    f.write(txt)"
   ]
  },
  {
   "cell_type": "code",
   "execution_count": 53,
   "metadata": {},
   "outputs": [],
   "source": [
    "# start with excel file headers\n",
    "txt = ('CharacterDesignId,CharacterDesignName,RaceType,FinalHp,FinalPilot,FinalAttack,FinalRepair,'\n",
    "'FinalWeapon,FinalScience,FinalEngine,Rarity,SpecialAbilityType,SpecialAbilityFinalArgument,'\n",
    "'ProfileSpriteId,WalkingSpeed,RunSpeed,TrainingCapacity,EquipmentMask,CollectionDesignId,CharacterDesignDescription\\n')\n",
    "\n",
    "# Add character stats\n",
    "for k in ctbl.keys():\n",
    "    item=ctbl[k]\n",
    "    \n",
    "    txt += f\"{item['CharacterDesignId']},\"\n",
    "    txt += f\"{item['CharacterDesignName']},\"\n",
    "    txt += f\"{item['RaceType']},\"\n",
    "    txt += f\"{item['FinalHp']},\"\n",
    "    txt += f\"{item['FinalPilot']},\"\n",
    "    txt += f\"{item['FinalAttack']},\"\n",
    "    txt += f\"{item['FinalRepair']},\"\n",
    "    txt += f\"{item['FinalWeapon']},\"\n",
    "    txt += f\"{item['FinalScience']},\"\n",
    "    txt += f\"{item['FinalEngine']},\"\n",
    "    txt += f\"{item['Rarity']},\"\n",
    "    txt += f\"{item['SpecialAbilityType']},\"\n",
    "    txt += f\"{item['SpecialAbilityFinalArgument']},\"\n",
    "    txt += f\"{item['ProfileSpriteId']},\"\n",
    "    txt += f\"{item['WalkingSpeed']},\"\n",
    "    txt += f\"{item['RunSpeed']},\"\n",
    "    txt += f\"{item['TrainingCapacity']},\"\n",
    "    txt += f\"{item['EquipmentMask']},\"\n",
    "    txt += f\"{item['CollectionDesignId']},\"\n",
    "    \n",
    "    desc = item['CharacterDesignDescription'].replace(\",\", \"\")\n",
    "    txt += f'{desc}\\n'\n",
    "    \n",
    "with open('characters_fulldata.csv', 'w', encoding='utf-8') as f:\n",
    "    f.write(txt)"
   ]
  },
  {
   "cell_type": "code",
   "execution_count": null,
   "metadata": {},
   "outputs": [],
   "source": []
  },
  {
   "cell_type": "code",
   "execution_count": 32,
   "metadata": {},
   "outputs": [],
   "source": []
  },
  {
   "cell_type": "code",
   "execution_count": null,
   "metadata": {
    "collapsed": true
   },
   "outputs": [],
   "source": []
  }
 ],
 "metadata": {
  "kernelspec": {
   "display_name": "Python 3",
   "language": "python",
   "name": "python3"
  },
  "language_info": {
   "codemirror_mode": {
    "name": "ipython",
    "version": 3
   },
   "file_extension": ".py",
   "mimetype": "text/x-python",
   "name": "python",
   "nbconvert_exporter": "python",
   "pygments_lexer": "ipython3",
   "version": "3.6.1"
  }
 },
 "nbformat": 4,
 "nbformat_minor": 2
}
