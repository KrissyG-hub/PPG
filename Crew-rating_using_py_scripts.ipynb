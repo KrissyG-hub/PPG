{
 "cells": [
  {
   "cell_type": "code",
   "execution_count": 1,
   "metadata": {},
   "outputs": [
    {
     "name": "stdout",
     "output_type": "stream",
     "text": [
      "Pulled crew data from Pixel Starships API.\n",
      "Wrote data to excel file.\n",
      "Wrote data to Wordpress db.\n",
      "Here's your data frame!\n"
     ]
    }
   ],
   "source": [
    "from py_files import get_crew_from_api\n",
    "crew_df = get_crew_from_api.main()"
   ]
  },
  {
   "cell_type": "code",
   "execution_count": 2,
   "metadata": {},
   "outputs": [
    {
     "name": "stdout",
     "output_type": "stream",
     "text": [
      "retrieved manual grades from wordpress\n"
     ]
    }
   ],
   "source": [
    "from py_files import get_manual_grades\n",
    "grades_df = get_manual_grades.main()"
   ]
  },
  {
   "cell_type": "code",
   "execution_count": 3,
   "metadata": {},
   "outputs": [
    {
     "name": "stdout",
     "output_type": "stream",
     "text": [
      "Normalizing crews' ability scores...\n",
      "Creating binary category variables...\n",
      "Scaling numeric variables...\n",
      "Ready for modeling!\n"
     ]
    }
   ],
   "source": [
    "from py_files import prep_model_features\n",
    "feats_df = prep_model_features.main(crew_df)"
   ]
  },
  {
   "cell_type": "code",
   "execution_count": 4,
   "metadata": {},
   "outputs": [
    {
     "name": "stdout",
     "output_type": "stream",
     "text": [
      "Matching up grades with crew...\n",
      "Removing ungraded crew...\n",
      "The size of the model-able data is:\n",
      "(354, 40)\n",
      "Randomly selecting data sets...\n",
      "We will use 283 training points and 70 test points.\n"
     ]
    }
   ],
   "source": [
    "from py_files import create_model_sets\n",
    "train_features, train_labels, test_features, test_labels = create_model_sets.main(feats_df, grades_df, 'Gunner')"
   ]
  },
  {
   "cell_type": "markdown",
   "metadata": {},
   "source": [
    "# Linear Regression"
   ]
  },
  {
   "cell_type": "code",
   "execution_count": 5,
   "metadata": {},
   "outputs": [
    {
     "name": "stdout",
     "output_type": "stream",
     "text": [
      "The linear regression model achieves an R2 value of 0.894102823195\n",
      "At worst, the predicted score was off by 1.461 grades.\n",
      "\n"
     ]
    }
   ],
   "source": [
    "from sklearn.linear_model import LinearRegression\n",
    "import numpy as np\n",
    "\n",
    "# linear regression model\n",
    "Regmodel = LinearRegression()\n",
    "Regmodel.fit(train_features, train_labels)\n",
    "\n",
    "print(\"The linear regression model achieves an R2 value of \" + str(Regmodel.score(test_features, test_labels)))\n",
    "\n",
    "y_pred = Regmodel.predict(test_features)\n",
    "print(\"At worst, the predicted score was off by \" + str(round(np.max(y_pred - test_labels),3)) + \" grades.\\n\")"
   ]
  },
  {
   "cell_type": "code",
   "execution_count": 6,
   "metadata": {},
   "outputs": [
    {
     "data": {
      "text/plain": [
       "<matplotlib.collections.PathCollection at 0x24ce613d5f8>"
      ]
     },
     "execution_count": 6,
     "metadata": {},
     "output_type": "execute_result"
    },
    {
     "data": {
      "image/png": "[encoded data removed]",
      "text/plain": [
       "<matplotlib.figure.Figure at 0x24ce45d5c18>"
      ]
     },
     "metadata": {},
     "output_type": "display_data"
    }
   ],
   "source": [
    "import matplotlib.pyplot as plt\n",
    "%matplotlib inline\n",
    "import seaborn as sns\n",
    "sns.set()\n",
    "\n",
    "plt.figure(figsize = (20,5))\n",
    "plt.subplot(1,3,2)\n",
    "plt.scatter(test_labels+0.1-np.random.uniform(size=len(y_pred))*0.2, y_pred)"
   ]
  },
  {
   "cell_type": "code",
   "execution_count": 7,
   "metadata": {},
   "outputs": [
    {
     "name": "stdout",
     "output_type": "stream",
     "text": [
      "The feature FinalWeapon has a coefficient of 1.06646867841\n",
      "The feature AddReload has a coefficient of 0.636098671713\n",
      "The feature HealSameRoomCharacters has a coefficient of 0.420238734029\n",
      "The feature FinalHp has a coefficient of 0.384294256721\n",
      "The feature Freeze has a coefficient of 0.321906031185\n",
      "The feature Common has a coefficient of 0.268241087586\n",
      "The feature DamageToSameRoomCharacters has a coefficient of 0.228919706001\n",
      "\n",
      "\n",
      "The feature FireWalk has a coefficient of -1.63934736456\n",
      "The feature SetFire has a coefficient of -0.292167275314\n",
      "The feature Unique has a coefficient of -0.225044442636\n",
      "The feature Robot has a coefficient of -0.121903409153\n",
      "The feature None has a coefficient of -0.0942736511058\n",
      "The feature FinalAttack has a coefficient of -0.0877365987198\n",
      "The feature TrainingCapacity has a coefficient of -0.0824949238584\n"
     ]
    }
   ],
   "source": [
    "# what are the most important features?\n",
    "coefs = Regmodel.coef_\n",
    "top_feat_inds = np.fliplr([np.argsort(coefs)[-7:]])[0]\n",
    "bottom_feat_inds = np.argsort(coefs)[0:7]\n",
    "\n",
    "# features that bring rating up\n",
    "for i in top_feat_inds:\n",
    "    print(\"The feature \" + feats_df.columns.tolist()[i+1] +   # one label later, since we dropped CrewId after model_data\n",
    "          \" has a coefficient of \" +  str(coefs[i]))\n",
    "print(\"\\n\")\n",
    "# features that bring rating down\n",
    "for i in bottom_feat_inds:\n",
    "    print(\"The feature \" + feats_df.columns.tolist()[i+1] + \n",
    "          \" has a coefficient of \" +  str(coefs[i]))"
   ]
  },
  {
   "cell_type": "markdown",
   "metadata": {},
   "source": [
    "# kNN"
   ]
  },
  {
   "cell_type": "code",
   "execution_count": 8,
   "metadata": {},
   "outputs": [
    {
     "name": "stdout",
     "output_type": "stream",
     "text": [
      "The kNN classifier with k=1 had an accuracy of 72.9% (and a +/-1 grade accuracy of 95.7%).\n",
      "The kNN classifier with k=3 had an accuracy of 65.7% (and a +/-1 grade accuracy of 90.0%).\n",
      "The kNN classifier with k=5 had an accuracy of 71.4% (and a +/-1 grade accuracy of 92.9%).\n",
      "The kNN classifier with k=7 had an accuracy of 68.6% (and a +/-1 grade accuracy of 91.4%).\n",
      "The kNN classifier with k=9 had an accuracy of 65.7% (and a +/-1 grade accuracy of 91.4%).\n"
     ]
    }
   ],
   "source": [
    "from sklearn.neighbors import KNeighborsClassifier\n",
    "\n",
    "k_values = [1,3,5,7,9]\n",
    "\n",
    "for k in k_values:  \n",
    "    \n",
    "    kNN = KNeighborsClassifier(n_neighbors = k)\n",
    "    kNN.fit(train_features, train_labels)\n",
    "    \n",
    "    # take a stab at the test set\n",
    "    y_pred = kNN.predict(test_features)\n",
    "    # accuracy\n",
    "    acc = round(sum(y_pred == test_labels)/test_labels.shape[0],3)*100\n",
    "    \n",
    "    # what if you consider +/- 1 star to be still \"accurate\"?\n",
    "    acc2 = round((\n",
    "        sum(y_pred == test_labels) + \n",
    "        sum(y_pred == test_labels-1) + sum(y_pred == test_labels+1)\n",
    "        )/test_labels.shape[0],3)*100\n",
    "    print(\"The kNN classifier with k=\" + str(k) + \" had an accuracy of \" \n",
    "          + str(acc) + \"% (and a +/-1 grade accuracy of \" + str(acc2) + \"%).\" )"
   ]
  },
  {
   "cell_type": "code",
   "execution_count": 25,
   "metadata": {},
   "outputs": [
    {
     "name": "stdout",
     "output_type": "stream",
     "text": [
      "\n",
      "The ratings misclassified by the classifier were: \n",
      "[3 0 2 3 1 4 1 2 2 2 2 0 0 3 4 2 1 2 3]-- predicted values\n",
      "[2 1 1 2 2 2 0 0 3 1 3 1 1 2 3 4 2 3 2]-- actual values\n"
     ]
    },
    {
     "data": {
      "text/plain": [
       "'0.728571428571'"
      ]
     },
     "execution_count": 25,
     "metadata": {},
     "output_type": "execute_result"
    }
   ],
   "source": [
    "# use the best model: n = 1\n",
    "kNN = KNeighborsClassifier(n_neighbors = 1)\n",
    "kNN.fit(train_features, train_labels)\n",
    "\n",
    "# print the values the model gets wrong\n",
    "print(\"\\nThe ratings misclassified by the classifier were: \")\n",
    "y_pred = kNN.predict(test_features)\n",
    "errors = test_labels[y_pred != test_labels]\n",
    "print(str(y_pred[y_pred != test_labels]) + \"-- predicted values\")\n",
    "print(str(errors) + \"-- actual values\")"
   ]
  },
  {
   "cell_type": "code",
   "execution_count": 10,
   "metadata": {},
   "outputs": [
    {
     "data": {
      "text/plain": [
       "<matplotlib.collections.PathCollection at 0x24ce61dbb38>"
      ]
     },
     "execution_count": 10,
     "metadata": {},
     "output_type": "execute_result"
    },
    {
     "data": {
      "image/png": "[encoded data removed]",
      "text/plain": [
       "<matplotlib.figure.Figure at 0x24ce63ba4e0>"
      ]
     },
     "metadata": {},
     "output_type": "display_data"
    }
   ],
   "source": [
    "plt.figure(figsize = (20,5))\n",
    "plt.subplot(1,3,2)\n",
    "plt.scatter(test_labels+0.1-np.random.uniform(size=len(y_pred))*0.2, y_pred+0.1-np.random.uniform(size=len(y_pred))*0.2)"
   ]
  },
  {
   "cell_type": "markdown",
   "metadata": {},
   "source": [
    "# Logistic Regression"
   ]
  },
  {
   "cell_type": "code",
   "execution_count": 13,
   "metadata": {},
   "outputs": [
    {
     "name": "stdout",
     "output_type": "stream",
     "text": [
      "The logistic regression model achieves an R2 value of 0.714285714286\n",
      "\n",
      "The ratings misclassified by the classifier were: \n",
      "[2 1 0 3 1 2 2 1 1 2 2 2 0 1 3 3 1 2 1 1]-- predicted values\n",
      "[1 2 1 2 2 3 0 0 3 3 1 1 1 2 2 4 2 3 0 2]-- actual values\n"
     ]
    }
   ],
   "source": [
    "from sklearn.linear_model import LogisticRegression\n",
    "import numpy as np\n",
    "\n",
    "# logistic regression model\n",
    "LogRegmodel = LogisticRegression(multi_class = 'multinomial', solver='newton-cg')\n",
    "LogRegmodel.fit(train_features, train_labels)\n",
    "\n",
    "print(\"The logistic regression model achieves an R2 value of \" + str(LogRegmodel.score(test_features, test_labels)))\n",
    "\n",
    "# print the values the model gets wrong\n",
    "print(\"\\nThe ratings misclassified by the classifier were: \")\n",
    "y_pred = LogRegmodel.predict(test_features)\n",
    "errors = test_labels[y_pred != test_labels]\n",
    "print(str(y_pred[y_pred != test_labels]) + \"-- predicted values\")\n",
    "print(str(errors) + \"-- actual values\")"
   ]
  },
  {
   "cell_type": "code",
   "execution_count": 14,
   "metadata": {},
   "outputs": [
    {
     "data": {
      "text/plain": [
       "<matplotlib.collections.PathCollection at 0x24ce6309b38>"
      ]
     },
     "execution_count": 14,
     "metadata": {},
     "output_type": "execute_result"
    },
    {
     "data": {
      "image/png": "[encoded data removed]",
      "text/plain": [
       "<matplotlib.figure.Figure at 0x24ce6243518>"
      ]
     },
     "metadata": {},
     "output_type": "display_data"
    }
   ],
   "source": [
    "plt.figure(figsize = (20,5))\n",
    "plt.subplot(1,3,2)\n",
    "plt.scatter(test_labels+0.1-np.random.uniform(size=len(y_pred))*0.2, y_pred+0.1-np.random.uniform(size=len(y_pred))*0.2)"
   ]
  },
  {
   "cell_type": "markdown",
   "metadata": {},
   "source": [
    "# Perceptron"
   ]
  },
  {
   "cell_type": "code",
   "execution_count": 22,
   "metadata": {},
   "outputs": [
    {
     "name": "stdout",
     "output_type": "stream",
     "text": [
      "The perceptron model achieves an R2 value of 0.671428571429\n",
      "\n",
      "The ratings misclassified by the classifier were: \n",
      "[3 2 3 2 2 2 2 2 2 2 2 2 0 3 2 2 1 4 2 2 4 2 1]-- predicted values\n",
      "[2 0 2 3 3 0 0 0 3 3 1 1 1 2 3 4 2 0 3 3 3 0 2]-- actual values\n"
     ]
    },
    {
     "name": "stderr",
     "output_type": "stream",
     "text": [
      "C:\\Users\\Krissy\\Anaconda3\\lib\\site-packages\\sklearn\\linear_model\\stochastic_gradient.py:128: FutureWarning: max_iter and tol parameters have been added in <class 'sklearn.linear_model.perceptron.Perceptron'> in 0.19. If both are left unset, they default to max_iter=5 and tol=None. If tol is not None, max_iter defaults to max_iter=1000. From 0.21, default max_iter will be 1000, and default tol will be 1e-3.\n",
      "  \"and default tol will be 1e-3.\" % type(self), FutureWarning)\n"
     ]
    }
   ],
   "source": [
    "from sklearn.linear_model import Perceptron\n",
    "perceptron = Perceptron()\n",
    "perceptron.fit(train_features, train_labels)\n",
    "\n",
    "print(\"The perceptron model achieves an R2 value of \" + str(perceptron.score(test_features, test_labels)))\n",
    "y_pred = perceptron.predict(test_features)\n",
    "\n",
    "# print the values the model gets wrong\n",
    "print(\"\\nThe ratings misclassified by the classifier were: \")\n",
    "y_pred = perceptron.predict(test_features)\n",
    "errors = test_labels[y_pred != test_labels]\n",
    "print(str(y_pred[y_pred != test_labels]) + \"-- predicted values\")\n",
    "print(str(errors) + \"-- actual values\")"
   ]
  },
  {
   "cell_type": "markdown",
   "metadata": {},
   "source": [
    "# SVM"
   ]
  },
  {
   "cell_type": "code",
   "execution_count": 24,
   "metadata": {},
   "outputs": [
    {
     "name": "stdout",
     "output_type": "stream",
     "text": [
      "The svm model achieves an R2 value of 0.442857142857\n"
     ]
    }
   ],
   "source": [
    "from sklearn.svm import SVC\n",
    "svc = SVC(kernel='poly', degree=8)\n",
    "svc.fit(train_features, train_labels)\n",
    "\n",
    "print(\"The svm model achieves an R2 value of \" + str(svc.score(test_features, test_labels)))\n",
    "y_pred = svc.predict(test_features)"
   ]
  },
  {
   "cell_type": "code",
   "execution_count": 26,
   "metadata": {},
   "outputs": [
    {
     "data": {
      "text/plain": [
       "<matplotlib.collections.PathCollection at 0x24ce64bbcc0>"
      ]
     },
     "execution_count": 26,
     "metadata": {},
     "output_type": "execute_result"
    },
    {
     "data": {
      "image/png": "[encoded data removed]",
      "text/plain": [
       "<matplotlib.figure.Figure at 0x24ce61e3630>"
      ]
     },
     "metadata": {},
     "output_type": "display_data"
    }
   ],
   "source": [
    "plt.figure(figsize = (20,5))\n",
    "plt.subplot(1,3,2)\n",
    "plt.scatter(test_labels+0.1-np.random.uniform(size=len(y_pred))*0.2, y_pred+0.1-np.random.uniform(size=len(y_pred))*0.2)"
   ]
  },
  {
   "cell_type": "markdown",
   "metadata": {},
   "source": [
    " # Decision Tree"
   ]
  },
  {
   "cell_type": "code",
   "execution_count": 29,
   "metadata": {},
   "outputs": [
    {
     "name": "stdout",
     "output_type": "stream",
     "text": [
      "The decision tree achieves an R2 value of 0.757142857143\n"
     ]
    }
   ],
   "source": [
    "from sklearn.tree import DecisionTreeClassifier\n",
    "tree = DecisionTreeClassifier()\n",
    "tree.fit(train_features, train_labels)\n",
    "\n",
    "print(\"The decision tree achieves an R2 value of \" + str(tree.score(test_features, test_labels)))\n",
    "y_pred = tree.predict(test_features)"
   ]
  },
  {
   "cell_type": "code",
   "execution_count": 30,
   "metadata": {},
   "outputs": [
    {
     "data": {
      "text/plain": [
       "<matplotlib.collections.PathCollection at 0x24ce65f72e8>"
      ]
     },
     "execution_count": 30,
     "metadata": {},
     "output_type": "execute_result"
    },
    {
     "data": {
      "image/png": "[encoded data removed]",
      "text/plain": [
       "<matplotlib.figure.Figure at 0x24ce65733c8>"
      ]
     },
     "metadata": {},
     "output_type": "display_data"
    }
   ],
   "source": [
    "plt.figure(figsize = (20,5))\n",
    "plt.subplot(1,3,2)\n",
    "plt.scatter(test_labels+0.1-np.random.uniform(size=len(y_pred))*0.2, y_pred+0.1-np.random.uniform(size=len(y_pred))*0.2)"
   ]
  },
  {
   "cell_type": "code",
   "execution_count": null,
   "metadata": {
    "collapsed": true
   },
   "outputs": [],
   "source": []
  }
 ],
 "metadata": {
  "kernelspec": {
   "display_name": "Python 3",
   "language": "python",
   "name": "python3"
  },
  "language_info": {
   "codemirror_mode": {
    "name": "ipython",
    "version": 3
   },
   "file_extension": ".py",
   "mimetype": "text/x-python",
   "name": "python",
   "nbconvert_exporter": "python",
   "pygments_lexer": "ipython3",
   "version": "3.6.1"
  }
 },
 "nbformat": 4,
 "nbformat_minor": 2
}
